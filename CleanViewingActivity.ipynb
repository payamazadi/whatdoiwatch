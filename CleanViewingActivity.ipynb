{
 "cells": [
  {
   "cell_type": "code",
   "execution_count": 1,
   "metadata": {},
   "outputs": [
    {
     "name": "stdout",
     "output_type": "stream",
     "text": [
      "Cleansed data saved to ViewingActivity-cleansed.csv\n"
     ]
    },
    {
     "name": "stderr",
     "output_type": "stream",
     "text": [
      "<ipython-input-1-97d4a0fce8ae>:16: FutureWarning: The default value of regex will change from True to False in a future version.\n",
      "  df['Title'] = df['Title'].str.replace(' (U.S.)', '')\n"
     ]
    }
   ],
   "source": [
    "import os\n",
    "import csv\n",
    "import pandas as pd\n",
    "from io import StringIO\n",
    "\n",
    "def parse_upload():\n",
    "    # Read data from the CSV file\n",
    "    csv_filename = \"ViewingActivity.csv\"\n",
    "    with open(csv_filename, 'r') as csv_file:\n",
    "        csv_data = csv_file.read()\n",
    "\n",
    "    # Convert the CSV data to a pandas DataFrame\n",
    "    df = pd.read_csv(StringIO(csv_data))\n",
    "\n",
    "    # Remove the \"US\" identifier from the Netflix naming\n",
    "    df['Title'] = df['Title'].str.replace(' (U.S.)', '')\n",
    "    \n",
    "    # Convert duration column to datetime format\n",
    "    df['Duration'] = pd.to_timedelta(df['Duration'])\n",
    "\n",
    "    # Filter out HOOK, TRAILER, etc\n",
    "    df = df[df['Supplemental Video Type'].isna()]\n",
    "    \n",
    "    # Filter rows that have a duration less than 12 minutes\n",
    "    df = df[df['Duration'] >= pd.Timedelta(minutes=12)]\n",
    "\n",
    "    # Remove everything after the first colon in 'Title'\n",
    "    df['Title'] = df['Title'].str.split(':').str[0]\n",
    "    \n",
    "    # Save the cleansed DataFrame to a new CSV file\n",
    "    cleansed_csv_filename = \"ViewingActivity-cleansed.csv\"\n",
    "    df.to_csv(cleansed_csv_filename, index=False)\n",
    "    \n",
    "    print(f\"Cleansed data saved to {cleansed_csv_filename}\")\n",
    "\n",
    "# Call the function to process and save the data\n",
    "parse_upload()"
   ]
  },
  {
   "cell_type": "code",
   "execution_count": null,
   "metadata": {},
   "outputs": [],
   "source": []
  }
 ],
 "metadata": {
  "kernelspec": {
   "display_name": "Python 3",
   "language": "python",
   "name": "python3"
  },
  "language_info": {
   "codemirror_mode": {
    "name": "ipython",
    "version": 3
   },
   "file_extension": ".py",
   "mimetype": "text/x-python",
   "name": "python",
   "nbconvert_exporter": "python",
   "pygments_lexer": "ipython3",
   "version": "3.9.1"
  }
 },
 "nbformat": 4,
 "nbformat_minor": 4
}
